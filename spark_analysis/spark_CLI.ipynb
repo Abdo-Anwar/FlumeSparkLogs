{
 "cells": [
  {
   "cell_type": "markdown",
   "id": "5828442e",
   "metadata": {},
   "source": [
    "# 🔍 Log Analysis with PySpark CLI\n",
    "This notebook analyzes log data stored in HDFS and extracts meaningful insights using PySpark."
   ]
  },
  {
   "cell_type": "code",
   "execution_count": null,
   "id": "48f1b2d5",
   "metadata": {},
   "outputs": [],
   "source": [
    "pyspark"
   ]
  },
  {
   "cell_type": "markdown",
   "id": "9a478dfe",
   "metadata": {},
   "source": [
    "## 📥 Load Data from HDFS"
   ]
  },
  {
   "cell_type": "code",
   "execution_count": null,
   "id": "2fd6e37a",
   "metadata": {},
   "outputs": [],
   "source": [
    "\n",
    "# Read logs from HDFS using the correct full path\n",
    "logs  = spark.sparkContext.textFile(\"hdfs://localhost:9000/tmp/logGenED/25-07-19/*)\n",
    "\n",
    "# Display the first 10 lines of the logs\n",
    "logs.take(10)"
   ]
  }
 ],
 "metadata": {
  "language_info": {
   "name": "python"
  }
 },
 "nbformat": 4,
 "nbformat_minor": 5
}
