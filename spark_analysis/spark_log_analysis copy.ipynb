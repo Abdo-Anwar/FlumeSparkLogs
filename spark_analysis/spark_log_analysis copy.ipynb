{
 "cells": [
  {
   "cell_type": "markdown",
   "id": "5828442e",
   "metadata": {},
   "source": [
    "# 🔍 Log Analysis with PySpark\n",
    "This notebook analyzes log data stored in HDFS and extracts meaningful insights using PySpark."
   ]
  },
  {
   "cell_type": "code",
   "execution_count": null,
   "id": "48f1b2d5",
   "metadata": {},
   "outputs": [],
   "source": [
    "\n",
    "from pyspark.sql import SparkSession\n",
    "from pyspark.sql.functions import split, col, regexp_extract, to_timestamp, hour\n",
    "\n",
    "# Create Spark Session\n",
    "spark = SparkSession.builder \\\n",
    "    .appName(\"Log Analysis\") \\\n",
    "    .getOrCreate()\n"
   ]
  },
  {
   "cell_type": "markdown",
   "id": "9a478dfe",
   "metadata": {},
   "source": [
    "## 📥 Load Data from HDFS"
   ]
  },
  {
   "cell_type": "code",
   "execution_count": null,
   "id": "2fd6e37a",
   "metadata": {},
   "outputs": [],
   "source": [
    "\n",
    "# Read logs from HDFS using the correct full path\n",
    "rdd = spark.sparkContext.textFile(\"hdfs://localhost:9000/tmp/logGenED/25-07-19/*\")\n",
    "logs = rdd.toDF([\"value\"])\n",
    "logs.show(5, truncate=False)\n"
   ]
  },
  {
   "cell_type": "markdown",
   "id": "ca2f560e",
   "metadata": {},
   "source": [
    "## 🔄 Split and Structure Log Lines"
   ]
  },
  {
   "cell_type": "code",
   "execution_count": null,
   "id": "313c7581",
   "metadata": {},
   "outputs": [],
   "source": [
    "\n",
    "# Split each log line into structured columns\n",
    "logs_df = logs.withColumn(\"parts\", split(col(\"value\"), \" - \")) \\\n",
    "    .withColumn(\"timestamp\", col(\"parts\").getItem(0)) \\\n",
    "    .withColumn(\"level\", col(\"parts\").getItem(1)) \\\n",
    "    .withColumn(\"component\", col(\"parts\").getItem(2)) \\\n",
    "    .withColumn(\"message\", col(\"parts\").getItem(3)) \\\n",
    "    .drop(\"parts\")\n",
    "logs_df.show(5, truncate=False)\n"
   ]
  },
  {
   "cell_type": "markdown",
   "id": "1af02968",
   "metadata": {},
   "source": [
    "## 📊 Extract and Analyze Response Times"
   ]
  },
  {
   "cell_type": "code",
   "execution_count": null,
   "id": "565abe65",
   "metadata": {},
   "outputs": [],
   "source": [
    "\n",
    "# Extract response time in ms from message\n",
    "logs_df = logs_df.withColumn(\"response_ms\", regexp_extract(\"message\", r\"(\\d+)ms\", 1).cast(\"int\"))\n",
    "logs_df.cache()\n"
   ]
  },
  {
   "cell_type": "markdown",
   "id": "4ead33dc",
   "metadata": {},
   "source": [
    "## 📈 Count Logs by Level"
   ]
  },
  {
   "cell_type": "code",
   "execution_count": null,
   "id": "d2b45303",
   "metadata": {},
   "outputs": [],
   "source": [
    "\n",
    "logs_df.groupBy(\"level\").count().show()\n"
   ]
  },
  {
   "cell_type": "markdown",
   "id": "e3f46dae",
   "metadata": {},
   "source": [
    "## 📊 Count Logs by Component"
   ]
  },
  {
   "cell_type": "code",
   "execution_count": null,
   "id": "d8ad8d28",
   "metadata": {},
   "outputs": [],
   "source": [
    "\n",
    "logs_df.groupBy(\"component\").count().orderBy(\"count\", ascending=False).show()\n"
   ]
  },
  {
   "cell_type": "markdown",
   "id": "bd82c3f8",
   "metadata": {},
   "source": [
    "## ⚡ Average Response Time per Component"
   ]
  },
  {
   "cell_type": "code",
   "execution_count": null,
   "id": "5fe62544",
   "metadata": {},
   "outputs": [],
   "source": [
    "\n",
    "logs_df.groupBy(\"component\").avg(\"response_ms\").withColumnRenamed(\"avg(response_ms)\", \"avg_ms\").show()\n"
   ]
  },
  {
   "cell_type": "markdown",
   "id": "dbdb8afe",
   "metadata": {},
   "source": [
    "## 🕒 Log Distribution by Hour"
   ]
  },
  {
   "cell_type": "code",
   "execution_count": null,
   "id": "37987594",
   "metadata": {},
   "outputs": [],
   "source": [
    "\n",
    "logs_df = logs_df.withColumn(\"ts\", to_timestamp(\"timestamp\", \"yyyy-MM-dd HH:mm:ss\"))\n",
    "logs_df.groupBy(hour(\"ts\").alias(\"hour\")).count().orderBy(\"hour\").show()\n"
   ]
  }
 ],
 "metadata": {},
 "nbformat": 4,
 "nbformat_minor": 5
}